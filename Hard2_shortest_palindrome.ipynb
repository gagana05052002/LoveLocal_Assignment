{
  "nbformat": 4,
  "nbformat_minor": 0,
  "metadata": {
    "colab": {
      "provenance": []
    },
    "kernelspec": {
      "name": "python3",
      "display_name": "Python 3"
    },
    "language_info": {
      "name": "python"
    }
  },
  "cells": [
    {
      "cell_type": "code",
      "execution_count": 3,
      "metadata": {
        "colab": {
          "base_uri": "https://localhost:8080/"
        },
        "id": "hIYARGmLg0Ww",
        "outputId": "1b1c0d72-f3de-4e4b-ad81-1d2c5ba5f59c"
      },
      "outputs": [
        {
          "output_type": "stream",
          "name": "stdout",
          "text": [
            "aacecaaa\n",
            "aaacecaaa\n"
          ]
        }
      ],
      "source": [
        "def short_palindrome(s):\n",
        "    if not s:\n",
        "        return \"\"\n",
        "\n",
        "    combination = s + \"#\" + s[::-1]\n",
        "\n",
        "    prefix = [0] * len(combination)\n",
        "    for i in range(1, len(combination)):\n",
        "        j = prefix[i - 1]\n",
        "        while j > 0 and combination[i] != combination[j]:\n",
        "            j = prefix[j - 1]\n",
        "        if combination[i] == combination[j]:\n",
        "            j += 1\n",
        "        prefix[i] = j\n",
        "\n",
        "    palindrome_len = prefix[-1]\n",
        "    return s[palindrome_len:][::-1] + s\n",
        "\n",
        "s = input()\n",
        "result = short_palindrome(s)\n",
        "print(result)\n"
      ]
    },
    {
      "cell_type": "markdown",
      "source": [
        "ALgorithm: KMP - Knuth-Morris-Pratt\n",
        "Combine with Reverse:\n",
        "Imagine your original string s. To make a palindrome, we add characters in front of it. To find the shortest palindrome, we combine s with its reverse, separated by a special symbol.\n",
        "\n",
        "Calculate Prefix Function (KMP):\n",
        "Now, we use a smart technique called the KMP algorithm to figure out where the palindrome part is in this combined string. The KMP algorithm helps us find the longest part at the beginning that is also at the end.\n",
        "\n",
        "Identify Palindrome Part:\n",
        "The KMP algorithm gives us a list of numbers, and the last number in that list tells us how long the palindrome part is.\n",
        "\n",
        "Build the Shortest Palindrome:\n",
        "Now that we know the length of the palindrome part, we take the remaining characters in the original string after this part, reverse them, and attach the original string. This gives us the shortest palindrome.\n",
        "\n",
        "Result:\n",
        "The result is the shortest palindrome you can create by adding characters in front of the original string."
      ],
      "metadata": {
        "id": "LjV8OqK9qlkj"
      }
    }
  ]
}
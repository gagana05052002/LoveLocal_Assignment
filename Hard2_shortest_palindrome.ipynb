{
  "nbformat": 4,
  "nbformat_minor": 0,
  "metadata": {
    "colab": {
      "provenance": []
    },
    "kernelspec": {
      "name": "python3",
      "display_name": "Python 3"
    },
    "language_info": {
      "name": "python"
    }
  },
  "cells": [
    {
      "cell_type": "code",
      "execution_count": null,
      "metadata": {
        "colab": {
          "base_uri": "https://localhost:8080/"
        },
        "id": "hIYARGmLg0Ww",
        "outputId": "e4b4c846-a9bb-4319-a24a-cd11ce026b8b"
      },
      "outputs": [
        {
          "output_type": "stream",
          "name": "stdout",
          "text": [
            "aacecaaa\n",
            "aaacecaaa\n"
          ]
        }
      ],
      "source": [
        "def shortest_palindrome(s):\n",
        "    if not s:\n",
        "        return \"\"\n",
        "\n",
        "    combined = s + \"#\" + s[::-1]\n",
        "\n",
        "    prefix_func = [0] * len(combined)\n",
        "    for i in range(1, len(combined)):\n",
        "        j = prefix_func[i - 1]\n",
        "        while j > 0 and combined[i] != combined[j]:\n",
        "            j = prefix_func[j - 1]\n",
        "        if combined[i] == combined[j]:\n",
        "            j += 1\n",
        "        prefix_func[i] = j\n",
        "\n",
        "    palindrome_part_len = prefix_func[-1]\n",
        "    return s[palindrome_part_len:][::-1] + s\n",
        "\n",
        "s = input()\n",
        "result = shortest_palindrome(s)\n",
        "print(result)\n"
      ]
    },
    {
      "cell_type": "markdown",
      "source": [
        "ALgorithm: KMP - Knuth-Morris-Pratt\n",
        "Combine with Reverse:\n",
        "Imagine your original string s. To make a palindrome, we add characters in front of it. To find the shortest palindrome, we combine s with its reverse, separated by a special symbol.\n",
        "\n",
        "Calculate Prefix Function (KMP):\n",
        "Now, we use a smart technique called the KMP algorithm to figure out where the palindrome part is in this combined string. The KMP algorithm helps us find the longest part at the beginning that is also at the end.\n",
        "\n",
        "Identify Palindrome Part:\n",
        "The KMP algorithm gives us a list of numbers, and the last number in that list tells us how long the palindrome part is.\n",
        "\n",
        "Build the Shortest Palindrome:\n",
        "Now that we know the length of the palindrome part, we take the remaining characters in the original string after this part, reverse them, and attach the original string. This gives us the shortest palindrome.\n",
        "\n",
        "Result:\n",
        "The result is the shortest palindrome you can create by adding characters in front of the original string."
      ],
      "metadata": {
        "id": "LjV8OqK9qlkj"
      }
    }
  ]
}
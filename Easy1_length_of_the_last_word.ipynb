{
  "nbformat": 4,
  "nbformat_minor": 0,
  "metadata": {
    "colab": {
      "provenance": []
    },
    "kernelspec": {
      "name": "python3",
      "display_name": "Python 3"
    },
    "language_info": {
      "name": "python"
    }
  },
  "cells": [
    {
      "cell_type": "code",
      "execution_count": 1,
      "metadata": {
        "colab": {
          "base_uri": "https://localhost:8080/"
        },
        "id": "7PtwjDXWdESE",
        "outputId": "86255570-d61d-4593-9e16-7edc673d93f9"
      },
      "outputs": [
        {
          "output_type": "stream",
          "name": "stdout",
          "text": [
            "luffy is still joyboy\n",
            "6\n"
          ]
        }
      ],
      "source": [
        "def last_word_len(s):\n",
        "    w = s.split()\n",
        "\n",
        "    if not w:\n",
        "        return 0\n",
        "\n",
        "    return len(w[-1])\n",
        "\n",
        "s = input()\n",
        "result = last_word_len(s)\n",
        "print(result)"
      ]
    },
    {
      "cell_type": "markdown",
      "source": [
        "Explanation of the logic and the algorithm:\n",
        "\n",
        "INPUT: The algorithm starts by taking a sentence or a group of words as input. This could be any string, and we'll refer to it as s.\n",
        "\n",
        "Splitting the Sentence: The algorithm then looks at each word in the sentence. It does this by breaking the sentence into individual words. For example, if the sentence is \"Hello World,\" it makes a list like [\"Hello\", \"World\"].\n",
        "\n",
        "Checking for Words: Next, the algorithm checks if there are any words in the list. If, for some reason, there are no words (perhaps the input was an empty string or just spaces), it returns 0 because, well, there are no words to measure.\n",
        "\n",
        "Finding the Length of the Last Word: Assuming there are words, the algorithm goes on to the last step. It figures out the length of the last word in the list. For instance, if the list is HELLO WORLD it looks at \"World\" and returns 5 as the output.\n",
        "\n",
        "Finally, the algorithm gives you either the length of the last word (if there are words) or 0 (if there are no words)."
      ],
      "metadata": {
        "id": "N6uGQJ_HdZIY"
      }
    }
  ]
}
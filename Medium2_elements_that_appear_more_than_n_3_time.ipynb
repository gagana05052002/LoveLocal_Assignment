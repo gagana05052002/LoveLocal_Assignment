{
  "nbformat": 4,
  "nbformat_minor": 0,
  "metadata": {
    "colab": {
      "provenance": []
    },
    "kernelspec": {
      "name": "python3",
      "display_name": "Python 3"
    },
    "language_info": {
      "name": "python"
    }
  },
  "cells": [
    {
      "cell_type": "code",
      "execution_count": 1,
      "metadata": {
        "colab": {
          "base_uri": "https://localhost:8080/"
        },
        "id": "ni8gYSRHwYXh",
        "outputId": "f5351762-d8d1-43d1-b7fd-e8c5853228c5"
      },
      "outputs": [
        {
          "output_type": "stream",
          "name": "stdout",
          "text": [
            "3 5 3\n",
            "[3]\n"
          ]
        }
      ],
      "source": [
        "def appear_n_by_3(nums):\n",
        "    if not nums:\n",
        "        return []\n",
        "\n",
        "    c1, count1 = None, 0\n",
        "    c2, count2 = None, 0\n",
        "    for num in nums:\n",
        "        if c1 == num:\n",
        "            count1 += 1\n",
        "        elif c2 == num:\n",
        "            count2 += 1\n",
        "        elif count1 == 0:\n",
        "            c1, count1 = num, 1\n",
        "        elif count2 == 0:\n",
        "            c2, count2 = num, 1\n",
        "        else:\n",
        "            count1 -= 1\n",
        "            count2 -= 1\n",
        "    count1, count2 = 0, 0\n",
        "    for num in nums:\n",
        "        if num == c1:\n",
        "            count1 += 1\n",
        "        elif num == c2:\n",
        "            count2 += 1\n",
        "    result = []\n",
        "    if count1 > len(nums) // 3:\n",
        "        result.append(c1)\n",
        "    if count2 > len(nums) // 3:\n",
        "        result.append(c2)\n",
        "\n",
        "    return result\n",
        "user_input = input()\n",
        "nums = list(map(int, user_input.split()))\n",
        "result = appear_n_by_3(nums)\n",
        "print(result)"
      ]
    },
    {
      "cell_type": "markdown",
      "source": [
        "The algorithm used in the code is use of the Boyer-Moore Majority Vote algorithm. This algorithm is used to find elements that appear more than ⌊n/3⌋ times in an array.\n",
        "\n",
        "Function for Finding Majority Elements:\n",
        "We have a function called appear_n_by_3 that aims to find elements in an array that appear more than ⌊n/3⌋ times.\n",
        "\n",
        "Voting Process for Candidates:\n",
        "The function uses a clever voting process to keep track of potential candidates that might be the majority elements in the array.\n",
        "\n",
        "Counting Candidates:\n",
        "After the voting process, the function counts the occurrences of the potential candidates to determine if they appear more than ⌊n/3⌋ times.\n",
        "\n",
        "User Input for Numbers:\n",
        "We take user input for a list of numbers. The user is prompted to enter these numbers, separating them with spaces.\n",
        "\n",
        "Conversion of User Input:\n",
        "The entered string of numbers is then converted into a list of integers, so the program can work with these numbers.\n",
        "\n",
        "Function Call with User Input:\n",
        "We call the appear_n_by_3 function, passing the list of numbers provided by the user as an argument.\n",
        "\n",
        "Printing the Result:\n",
        "Finally, the program prints the elements from the user-provided list that appear more than ⌊n/3⌋ times.\n",
        "\n",
        "This code allows a user to input a list of numbers, and the program finds and displays the elements in that list that occur more frequently than one-third of the total number of elements.\n",
        "\n"
      ],
      "metadata": {
        "id": "yxU3yyxZytbE"
      }
    }
  ]
}
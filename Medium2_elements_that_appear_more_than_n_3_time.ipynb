{
  "nbformat": 4,
  "nbformat_minor": 0,
  "metadata": {
    "colab": {
      "provenance": []
    },
    "kernelspec": {
      "name": "python3",
      "display_name": "Python 3"
    },
    "language_info": {
      "name": "python"
    }
  },
  "cells": [
    {
      "cell_type": "code",
      "execution_count": 2,
      "metadata": {
        "colab": {
          "base_uri": "https://localhost:8080/"
        },
        "id": "ni8gYSRHwYXh",
        "outputId": "1a12ba22-e6b7-438d-ebe2-3667b4df7195"
      },
      "outputs": [
        {
          "output_type": "stream",
          "name": "stdout",
          "text": [
            "3 5 3\n",
            "[3]\n"
          ]
        }
      ],
      "source": [
        "def find_elements_more_than_n_over_k(nums):\n",
        "    if not nums:\n",
        "        return []\n",
        "\n",
        "    candidate1, count1 = None, 0\n",
        "    candidate2, count2 = None, 0\n",
        "    for num in nums:\n",
        "        if candidate1 == num:\n",
        "            count1 += 1\n",
        "        elif candidate2 == num:\n",
        "            count2 += 1\n",
        "        elif count1 == 0:\n",
        "            candidate1, count1 = num, 1\n",
        "        elif count2 == 0:\n",
        "            candidate2, count2 = num, 1\n",
        "        else:\n",
        "            count1 -= 1\n",
        "            count2 -= 1\n",
        "    count1, count2 = 0, 0\n",
        "    for num in nums:\n",
        "        if num == candidate1:\n",
        "            count1 += 1\n",
        "        elif num == candidate2:\n",
        "            count2 += 1\n",
        "    result = []\n",
        "    if count1 > len(nums) // 3:\n",
        "        result.append(candidate1)\n",
        "    if count2 > len(nums) // 3:\n",
        "        result.append(candidate2)\n",
        "\n",
        "    return result\n",
        "user_input = input()\n",
        "nums = list(map(int, user_input.split()))\n",
        "result = find_elements_more_than_n_over_k(nums)\n",
        "print(result)"
      ]
    },
    {
      "cell_type": "markdown",
      "source": [
        "The algorithm used in the code is use of the Boyer-Moore Majority Vote algorithm. This algorithm is used to find elements that appear more than ⌊n/3⌋ times in an array.\n",
        "\n",
        "Function for Finding Majority Elements:\n",
        "We have a function called find_elements_more_than_n_over_k that aims to find elements in an array that appear more than ⌊n/3⌋ times.\n",
        "\n",
        "Voting Process for Candidates:\n",
        "The function uses a clever voting process to keep track of potential candidates that might be the majority elements in the array.\n",
        "\n",
        "Counting Candidates:\n",
        "After the voting process, the function counts the occurrences of the potential candidates to determine if they appear more than ⌊n/3⌋ times.\n",
        "\n",
        "User Input for Numbers:\n",
        "We take user input for a list of numbers. The user is prompted to enter these numbers, separating them with spaces.\n",
        "\n",
        "Conversion of User Input:\n",
        "The entered string of numbers is then converted into a list of integers, so the program can work with these numbers.\n",
        "\n",
        "Function Call with User Input:\n",
        "We call the find_elements_more_than_n_over_k function, passing the list of numbers provided by the user as an argument.\n",
        "\n",
        "Printing the Result:\n",
        "Finally, the program prints the elements from the user-provided list that appear more than ⌊n/3⌋ times.\n",
        "\n",
        "This code allows a user to input a list of numbers, and the program finds and displays the elements in that list that occur more frequently than one-third of the total number of elements.\n",
        "\n"
      ],
      "metadata": {
        "id": "yxU3yyxZytbE"
      }
    }
  ]
}